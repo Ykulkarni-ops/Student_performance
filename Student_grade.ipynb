{
 "cells": [
  {
   "cell_type": "code",
   "execution_count": 1,
   "metadata": {},
   "outputs": [],
   "source": [
    "import numpy as np\n",
    "import pandas as pd\n",
    "import matplotlib.pyplot as plt"
   ]
  },
  {
   "cell_type": "code",
   "execution_count": 2,
   "metadata": {},
   "outputs": [],
   "source": [
    "#importing the data\n",
    "df=pd.read_csv('student_mat.csv')"
   ]
  },
  {
   "cell_type": "code",
   "execution_count": 3,
   "metadata": {
    "scrolled": true
   },
   "outputs": [
    {
     "name": "stdout",
     "output_type": "stream",
     "text": [
      "(395, 33)\n",
      "  school sex  age address famsize Pstatus  Medu  Fedu     Mjob      Fjob  ...  \\\n",
      "0     GP   F   18       U     GT3       A     4     4  at_home   teacher  ...   \n",
      "1     GP   F   17       U     GT3       T     1     1  at_home     other  ...   \n",
      "2     GP   F   15       U     LE3       T     1     1  at_home     other  ...   \n",
      "3     GP   F   15       U     GT3       T     4     2   health  services  ...   \n",
      "4     GP   F   16       U     GT3       T     3     3    other     other  ...   \n",
      "\n",
      "  famrel freetime  goout  Dalc  Walc health absences  G1  G2  G3  \n",
      "0      4        3      4     1     1      3        6   5   6   6  \n",
      "1      5        3      3     1     1      3        4   5   5   6  \n",
      "2      4        3      2     2     3      3       10   7   8  10  \n",
      "3      3        2      2     1     1      5        2  15  14  15  \n",
      "4      4        3      2     1     2      5        4   6  10  10  \n",
      "\n",
      "[5 rows x 33 columns]\n"
     ]
    }
   ],
   "source": [
    "#summarize the data\n",
    "print(df.shape)\n",
    "print(df.head())"
   ]
  },
  {
   "cell_type": "code",
   "execution_count": 4,
   "metadata": {},
   "outputs": [],
   "source": [
    "df['school']=df['school'].fillna(df['school'].dropna().mode().values[0])\n",
    "df['sex']=df['sex'].fillna(df['sex'].dropna().mode().values[0])\n",
    "df['age']=df['age'].fillna(df['age'].dropna().mode().values[0])\n",
    "df['address']=df['address'].fillna(df['address'].dropna().mode().values[0])\n",
    "df['famsize']=df['famsize'].fillna(df['famsize'].dropna().mode().values[0])\n",
    "df['Pstatus']=df['Pstatus'].fillna(df['Pstatus'].dropna().mode().values[0])\n",
    "df['Medu']=df['Medu'].fillna(df['Medu'].dropna().mode().values[0])\n",
    "df['Mjob']=df['Mjob'].fillna(df['Mjob'].dropna().mode().values[0])\n",
    "df['Fjob']=df['Fjob'].fillna(df['Fjob'].dropna().mode().values[0])\n",
    "df['reason']=df['reason'].fillna(df['reason'].dropna().mode().values[0])\n",
    "df['guardian']=df['guardian'].fillna(df['guardian'].dropna().mode().values[0])\n",
    "df['travetime']=df['traveltime'].fillna(df['traveltime'].dropna().mode().values[0])\n",
    "df['studytime']=df['studytime'].fillna(df['studytime'].dropna().mode().values[0])\n",
    "df['failures']=df['failures'].fillna(df['failures'].dropna().mode().values[0])\n",
    "df['schoolsup']=df['schoolsup'].fillna(df['schoolsup'].dropna().mode().values[0])\n",
    "df['famsup']=df['famsup'].fillna(df['famsup'].dropna().mode().values[0])\n",
    "df['paid']=df['paid'].fillna(df['paid'].dropna().mode().values[0])\n",
    "df['activities']=df['activities'].fillna(df['activities'].dropna().mode().values[0])\n",
    "df['nursery']=df['nursery'].fillna(df['nursery'].dropna().mode().values[0])\n",
    "df['higher']=df['higher'].fillna(df['higher'].dropna().mode().values[0])\n",
    "df['romantic']=df['romantic'].fillna(df['romantic'].dropna().mode().values[0])\n",
    "df['famrel']=df['famrel'].fillna(df['famrel'].dropna().mode().values[0])\n",
    "df['freetime']=df['freetime'].fillna(df['freetime'].dropna().mode().values[0])\n",
    "df['goout']=df['goout'].fillna(df['goout'].dropna().mode().values[0])\n",
    "df['Dalc']=df['Dalc'].fillna(df['Dalc'].dropna().mode().values[0])\n",
    "df['Walc']=df['Walc'].fillna(df['Walc'].dropna().mode().values[0])\n",
    "df['health']=df['health'].fillna(df['health'].dropna().mode().values[0])\n",
    "df['absences']=df['absences'].fillna(df['absences'].dropna().mode().values[0])\n",
    "df['G1']=df['G1'].fillna(df['G1'].dropna().mode().values[0])\n",
    "df['G2']=df['G2'].fillna(df['G2'].dropna().mode().values[0])\n",
    "df['G3']=df['G3'].fillna(df['G3'].dropna().mode().values[0])\n",
    "df['school'] = df['school'].map({'GP':0,'MS':1}).astype(np.int)\n",
    "df['sex'] = df['sex'].map({'F':0,'M':1}).astype(np.int)\n",
    "df['address'] = df['address'].map({'R':0,'U':1}).astype(np.int)\n",
    "df['famsize'] = df['famsize'].map({'GT3':0,'LE3':1}).astype(np.int)\n",
    "df['Pstatus'] = df['Pstatus'].map({'T':0,'A':1}).astype(np.int)\n",
    "df['Mjob'] = df['Mjob'].map({'other':0,'services':1,'at_home':2,'teacher':3,'health':4}).astype(np.int)\n",
    "df['Fjob'] = df['Fjob'].map({'other':0,'services':1,'at_home':2,'teacher':3,'health':4}).astype(np.int)\n",
    "df['reason'] = df['reason'].map({'course':0,'home':1,'reputation':2,'other':3}).astype(np.int)\n",
    "df['guardian'] = df['guardian'].map({'mother':0,'father':1,'other':2}).astype(np.int)\n",
    "df['schoolsup'] = df['schoolsup'].map({'no':0,'yes':1}).astype(np.int)\n",
    "df['famsup'] = df['famsup'].map({'no':0,'yes':1}).astype(np.int)\n",
    "df['paid'] = df['paid'].map({'no':0,'yes':1}).astype(np.int)\n",
    "df['activities'] = df['activities'].map({'no':0,'yes':1}).astype(np.int)\n",
    "df['nursery'] = df['nursery'].map({'no':0,'yes':1}).astype(np.int)\n",
    "df['higher'] = df['higher'].map({'no':0,'yes':1}).astype(np.int)\n",
    "df['internet'] = df['internet'].map({'no':0,'yes':1}).astype(np.int)\n",
    "df['romantic'] = df['romantic'].map({'no':0,'yes':1}).astype(np.int)"
   ]
  },
  {
   "cell_type": "code",
   "execution_count": 28,
   "metadata": {},
   "outputs": [
    {
     "data": {
      "text/plain": [
       "no     263\n",
       "yes    132\n",
       "Name: romantic, dtype: int64"
      ]
     },
     "execution_count": 28,
     "metadata": {},
     "output_type": "execute_result"
    }
   ],
   "source": []
  },
  {
   "cell_type": "code",
   "execution_count": 5,
   "metadata": {},
   "outputs": [],
   "source": [
    "#scaling the values \n",
    "from sklearn.preprocessing import MinMaxScaler\n",
    "scaler=MinMaxScaler()\n",
    "df_scaler=scaler.fit(df.iloc[:, 1:-1])\n",
    "df_transform=scaler.transform(df.iloc[:,1:-1])"
   ]
  },
  {
   "cell_type": "code",
   "execution_count": 6,
   "metadata": {},
   "outputs": [],
   "source": [
    "x,y  = df_transform, df.iloc[:, -1]"
   ]
  },
  {
   "cell_type": "code",
   "execution_count": 7,
   "metadata": {},
   "outputs": [],
   "source": [
    "#Split data\n",
    "from sklearn.model_selection import train_test_split\n",
    "x_train,x_test,y_train,y_test=train_test_split(x,y,test_size=0.2,random_state=0)"
   ]
  },
  {
   "cell_type": "code",
   "execution_count": 14,
   "metadata": {},
   "outputs": [
    {
     "data": {
      "text/plain": [
       "RandomForestClassifier(criterion='entropy', n_estimators=10, random_state=1)"
      ]
     },
     "execution_count": 14,
     "metadata": {},
     "output_type": "execute_result"
    }
   ],
   "source": [
    "#random forest classification\n",
    "from sklearn.ensemble import RandomForestClassifier\n",
    "classifier=RandomForestClassifier(n_estimators=10,criterion='entropy',random_state=1)\n",
    "classifier.fit(x_train,y_train)"
   ]
  },
  {
   "cell_type": "code",
   "execution_count": 15,
   "metadata": {},
   "outputs": [
    {
     "name": "stdout",
     "output_type": "stream",
     "text": [
      "0.9620253164556962\n"
     ]
    }
   ],
   "source": [
    "from sklearn.metrics import accuracy_score\n",
    "predictions=classifier.predict(x_test)\n",
    "print(accuracy_score(y_test,predictions))"
   ]
  },
  {
   "cell_type": "code",
   "execution_count": 13,
   "metadata": {},
   "outputs": [
    {
     "name": "stdout",
     "output_type": "stream",
     "text": [
      "              precision    recall  f1-score   support\n",
      "\n",
      "           1       1.00      1.00      1.00        52\n",
      "           2       1.00      0.91      0.95        23\n",
      "           3       0.67      1.00      0.80         2\n",
      "           4       0.33      0.50      0.40         2\n",
      "\n",
      "    accuracy                           0.96        79\n",
      "   macro avg       0.75      0.85      0.79        79\n",
      "weighted avg       0.97      0.96      0.97        79\n",
      "\n"
     ]
    }
   ],
   "source": [
    "from sklearn.metrics import classification_report\n",
    "print(classification_report(y_test,predictions))"
   ]
  },
  {
   "cell_type": "code",
   "execution_count": null,
   "metadata": {},
   "outputs": [],
   "source": []
  }
 ],
 "metadata": {
  "kernelspec": {
   "display_name": "Python 3.8.2 32-bit",
   "language": "python",
   "name": "python38232bitad3eed69cd9b4a60b793c950cdb0ffab"
  },
  "language_info": {
   "codemirror_mode": {
    "name": "ipython",
    "version": 3
   },
   "file_extension": ".py",
   "mimetype": "text/x-python",
   "name": "python",
   "nbconvert_exporter": "python",
   "pygments_lexer": "ipython3",
   "version": "3.8.2"
  }
 },
 "nbformat": 4,
 "nbformat_minor": 4
}
